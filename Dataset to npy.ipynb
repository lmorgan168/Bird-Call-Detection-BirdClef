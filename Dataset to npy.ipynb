{
 "cells": [
  {
   "cell_type": "code",
   "execution_count": 34,
   "id": "confirmed-perry",
   "metadata": {},
   "outputs": [],
   "source": [
    "import os\n",
    "import numpy as np\n",
    "import soundfile as sf\n",
    "import pandas as pd\n",
    "from tqdm import tqdm\n",
    "from joblib import Parallel, delayed"
   ]
  },
  {
   "cell_type": "code",
   "execution_count": 35,
   "id": "clear-liquid",
   "metadata": {},
   "outputs": [],
   "source": [
    "SR = 32000\n",
    "USE_SEC = 30\n",
    "\n",
    "\n",
    "def Audio_to_Array(path):\n",
    "    y, sr = sf.read(path, always_2d=True)\n",
    "    y = np.mean(y, 1) # there is (X, 2) array\n",
    "    if len(y) > SR:\n",
    "        y = y[SR:-SR]\n",
    "\n",
    "    if len(y) > SR * USE_SEC:\n",
    "        y = y[:SR * USE_SEC]\n",
    "    return y\n",
    "\n",
    "def save_(path):\n",
    "    save_path = \"train_np/\" + \"/\".join(path.split('/')[-2:])\n",
    "    np.save(save_path, Audio_to_Array(path))\n",
    "\n",
    "\n",
    "AUDIO_PATH = \"C:/UCI MDS Spring Quarter 2022/CS 274P/Final Project/train_audio\"\n",
    "\n",
    "\n",
    "train = pd.read_csv(\"C:/UCI MDS Spring Quarter 2022/CS 274P/Final Project/train_metadata.csv\")\n",
    "train[\"file_path\"] = AUDIO_PATH + '/' + train['filename']\n",
    "paths = train[\"file_path\"].values"
   ]
  },
  {
   "cell_type": "code",
   "execution_count": 41,
   "id": "annual-experience",
   "metadata": {},
   "outputs": [],
   "source": [
    "i = 3\n",
    "step = int(len(paths)/4)\n",
    "# paths[step * i:step * (i+1)]"
   ]
  },
  {
   "cell_type": "code",
   "execution_count": 37,
   "id": "fifteen-generic",
   "metadata": {},
   "outputs": [
    {
     "data": {
      "text/plain": [
       "'C:/UCI MDS Spring Quarter 2022/CS 274P/Final Project/train_audio/afrsil1/XC125458.ogg'"
      ]
     },
     "execution_count": 37,
     "metadata": {},
     "output_type": "execute_result"
    }
   ],
   "source": [
    "train['file_path'][0]"
   ]
  },
  {
   "cell_type": "code",
   "execution_count": 42,
   "id": "musical-vietnam",
   "metadata": {},
   "outputs": [
    {
     "name": "stderr",
     "output_type": "stream",
     "text": [
      "100%|██████████████████████████████████████| 152/152 [00:00<00:00, 5428.36it/s]\n",
      "100%|██████████████████████████████████████| 3713/3713 [01:21<00:00, 45.71it/s]\n"
     ]
    }
   ],
   "source": [
    "NUM_WORKERS = -1\n",
    "CLASSES = sorted(os.listdir(AUDIO_PATH))\n",
    "\n",
    "for dir_ in tqdm(CLASSES):\n",
    "    _ = os.makedirs('train_np/' + dir_, exist_ok=True)\n",
    "_ = Parallel(n_jobs=NUM_WORKERS)(delayed(save_)(AUDIO_PATH) for AUDIO_PATH in tqdm(paths[step * i:step * (i+1)]))"
   ]
  },
  {
   "cell_type": "code",
   "execution_count": 14,
   "id": "coated-reasoning",
   "metadata": {},
   "outputs": [],
   "source": [
    "CLASSES = sorted(os.listdir(AUDIO_PATH))"
   ]
  },
  {
   "cell_type": "code",
   "execution_count": null,
   "id": "integral-brick",
   "metadata": {},
   "outputs": [],
   "source": []
  },
  {
   "cell_type": "code",
   "execution_count": 17,
   "id": "eleven-document",
   "metadata": {},
   "outputs": [],
   "source": [
    "_ = os.makedirs('train_np/' + dir_, exist_ok=True)"
   ]
  },
  {
   "cell_type": "code",
   "execution_count": 28,
   "id": "secret-aurora",
   "metadata": {},
   "outputs": [
    {
     "data": {
      "text/plain": [
       "'train_np/afrsil1/XC125458.ogg'"
      ]
     },
     "execution_count": 28,
     "metadata": {},
     "output_type": "execute_result"
    }
   ],
   "source": [
    "\"train_np/\" + \"/\".join(paths[step * i:step * (i+1)][0].split('/')[-2:])"
   ]
  },
  {
   "cell_type": "code",
   "execution_count": 29,
   "id": "enormous-appraisal",
   "metadata": {},
   "outputs": [
    {
     "data": {
      "text/plain": [
       "'C:/UCI MDS Spring Quarter 2022/CS 274P/Final Project/train_audio/afrsil1/XC125458.ogg'"
      ]
     },
     "execution_count": 29,
     "metadata": {},
     "output_type": "execute_result"
    }
   ],
   "source": [
    "paths[step * i:step * (i+1)][0]"
   ]
  }
 ],
 "metadata": {
  "kernelspec": {
   "display_name": "Python 3",
   "language": "python",
   "name": "python3"
  },
  "language_info": {
   "codemirror_mode": {
    "name": "ipython",
    "version": 3
   },
   "file_extension": ".py",
   "mimetype": "text/x-python",
   "name": "python",
   "nbconvert_exporter": "python",
   "pygments_lexer": "ipython3",
   "version": "3.8.5"
  }
 },
 "nbformat": 4,
 "nbformat_minor": 5
}
